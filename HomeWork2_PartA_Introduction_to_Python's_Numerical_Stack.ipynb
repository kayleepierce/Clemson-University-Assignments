{
  "cells": [
    {
      "cell_type": "markdown",
      "metadata": {
        "id": "view-in-github",
        "colab_type": "text"
      },
      "source": [
        "<a href=\"https://colab.research.google.com/github/kayleepierce/Clemson-University-Assignments/blob/main/HomeWork2_PartA_Introduction_to_Python's_Numerical_Stack.ipynb\" target=\"_parent\"><img src=\"https://colab.research.google.com/assets/colab-badge.svg\" alt=\"Open In Colab\"/></a>"
      ]
    },
    {
      "cell_type": "markdown",
      "metadata": {
        "id": "6kszZmxuYCDy"
      },
      "source": [
        "<div class='heading'>\n",
        "    <div style='float:left;'><h1>CPSC 4300/6300: Applied Data Science</h1></div>\n",
        "    <img style=\"float: right; padding-right: 10px; width: 65px\" src=\"https://raw.githubusercontent.com/bsethwalker/clemson-cs4300/main/images/clemson_paw.png\"> </div><br>\n",
        "\n",
        "\n",
        "## Week 2: Introduction to Python's Numerical Stack\n",
        "\n",
        "**Clemson University**<br>\n",
        "**Spring 2024**<br>\n",
        "**Instructor(s):** Nina Hubig <br>\n",
        "**TA(s):** Luyi Li\n",
        "\n",
        "\n",
        "---\n",
        "\n"
      ]
    },
    {
      "cell_type": "code",
      "execution_count": 1,
      "metadata": {
        "id": "-Rom_nunYCD0",
        "outputId": "bc079fa7-d5cb-4dd7-a948-e9902469c454",
        "colab": {
          "base_uri": "https://localhost:8080/",
          "height": 17
        }
      },
      "outputs": [
        {
          "output_type": "execute_result",
          "data": {
            "text/plain": [
              "<IPython.core.display.HTML object>"
            ],
            "text/html": [
              "<style>\n",
              "blockquote { background: #AEDE94; }\n",
              "\n",
              "div.heading {\n",
              "margin-bottom: 25px;\n",
              "height: 75px;\n",
              "}\n",
              "\n",
              "h1 { \n",
              "    padding-top: 25px;\n",
              "    padding-bottom: 25px;\n",
              "    text-align: left; \n",
              "    padding-left: 10px;\n",
              "    color: black;\n",
              "}\n",
              "\n",
              "h2 { \n",
              "    padding-top: 10px;\n",
              "    padding-bottom: 10px;\n",
              "    text-align: left; \n",
              "    padding-left: 5px;\n",
              "    background-color: #EEEEEE; \n",
              "    color: black;\n",
              "}\n",
              "\n",
              "div.exercise {\n",
              "    \n",
              "    background: rgba(245, 102, 0, .75);\n",
              "    border-color: #E9967A;\n",
              "    border-left: 5px solid #522D80; \n",
              "    padding: 0.5em;\n",
              "}\n",
              "\n",
              "div.exercise-r {\n",
              "    background-color: #fce8e8;\n",
              "    border-color: #E9967A; \t\n",
              "    border-left: 5px solid #800080; \n",
              "    padding: 0.5em;\n",
              "}\n",
              "\n",
              "span.sub-q {\n",
              "    font-weight: bold;\n",
              "}\n",
              "div.theme {\n",
              "    background-color: #DDDDDD;\n",
              "    border-color: #E9967A; \t\n",
              "    border-left: 5px solid #800080; \n",
              "    padding: 0.5em;\n",
              "    font-size: 18pt;\n",
              "}\n",
              "div.gc { \n",
              "    background-color: #AEDE94;\n",
              "    border-color: #E9967A; \t \n",
              "    border-left: 5px solid #800080; \n",
              "    padding: 0.5em;\n",
              "    font-size: 12pt;\n",
              "}\n",
              "p.q1 { \n",
              "    padding-top: 5px;\n",
              "    padding-bottom: 5px;\n",
              "    text-align: left; \n",
              "    padding-left: 5px;\n",
              "    background-color: #EEEEEE; \n",
              "    color: black;\n",
              "}\n",
              "header {\n",
              "   padding-top: 35px;\n",
              "    padding-bottom: 35px;\n",
              "    text-align: left; \n",
              "    padding-left: 10px;\n",
              "    background-color: #DDDDDD; \n",
              "    color: black;\n",
              "}\n",
              "</style>"
            ]
          },
          "metadata": {},
          "execution_count": 1
        }
      ],
      "source": [
        "\"\"\" RUN THIS CELL TO GET THE RIGHT FORMATTING \"\"\"\n",
        "import requests\n",
        "from IPython.core.display import HTML\n",
        "css_file = 'https://raw.githubusercontent.com/bsethwalker/clemson-cs4300/main/css/cpsc6300.css'\n",
        "styles = requests.get(css_file).text\n",
        "HTML(styles)"
      ]
    },
    {
      "cell_type": "markdown",
      "metadata": {
        "id": "bqfWKrAxYCD1"
      },
      "source": [
        "## Programming Expectations\n",
        "All assignments for this class will use Python and the browser-based iPython notebook format you are currently viewing.  Programming at the level of CPSC 2120 is a prerequisite for this course.   If you have concerns about this, come speak with any of the instructors.\n",
        "\n",
        "We will refer to the Python 3 [documentation](https://docs.python.org/3/) in this lab and throughout the course.  "
      ]
    },
    {
      "cell_type": "markdown",
      "metadata": {
        "id": "KuI1ts3FYCD1"
      },
      "source": [
        "## Learning Goals\n",
        "This introductory lab is a condensed introduction to Python numerical programming.  By the end of this lab, you will feel more comfortable:\n",
        "\n",
        "- Writing short Python code using functions, loops, lists, numpy arrays, and dictionaries.\n",
        "\n",
        "- Manipulating Python lists and numpy arrays and understanding the difference between them.\n",
        "\n",
        "- Introducing the stats libraries `scipy.stats` and `statsmodels`"
      ]
    },
    {
      "cell_type": "markdown",
      "source": [
        "# package installation\n",
        "You probabaly have all the packages installed on Colab,\n",
        "If not, remeber the command line from last week:\n"
      ],
      "metadata": {
        "id": "7kCF0Jw1kn34"
      }
    },
    {
      "cell_type": "code",
      "source": [
        "!pip install numpy"
      ],
      "metadata": {
        "colab": {
          "base_uri": "https://localhost:8080/"
        },
        "id": "PV9zwf2_kmbw",
        "outputId": "393eeddf-4418-448f-ddea-752bc567206c"
      },
      "execution_count": 2,
      "outputs": [
        {
          "output_type": "stream",
          "name": "stdout",
          "text": [
            "Requirement already satisfied: numpy in /usr/local/lib/python3.10/dist-packages (1.26.4)\n"
          ]
        }
      ]
    },
    {
      "cell_type": "markdown",
      "metadata": {
        "id": "dYAaDH1_YCD2"
      },
      "source": [
        "## Getting Started with Python"
      ]
    },
    {
      "cell_type": "markdown",
      "metadata": {
        "id": "hjdH_wQuYCD2"
      },
      "source": [
        "### Importing modules\n",
        "All notebooks should begin with code that imports *modules*, collections of built-in, commonly-used Python functions.  Below we import the Numpy module, a fast numerical programming library for scientific computing.  Future labs will require additional modules, which we'll import with the same syntax.\n",
        "\n",
        "`import MODULE_NAME as MODULE_NICKNAME`"
      ]
    },
    {
      "cell_type": "code",
      "execution_count": 3,
      "metadata": {
        "id": "2Kmp-2OFYCD2"
      },
      "outputs": [],
      "source": [
        "import numpy as np"
      ]
    },
    {
      "cell_type": "markdown",
      "metadata": {
        "id": "QNiJ3T0HYCD2"
      },
      "source": [
        "Now that Numpy has been imported, we can access some useful functions.  For example, we can use `mean` to calculate the mean of a set of numbers."
      ]
    },
    {
      "cell_type": "code",
      "execution_count": 4,
      "metadata": {
        "id": "u3V8IKxsYCD2",
        "outputId": "24a95bec-cc8e-4e5a-c581-e86afb5a04c7",
        "colab": {
          "base_uri": "https://localhost:8080/"
        }
      },
      "outputs": [
        {
          "output_type": "execute_result",
          "data": {
            "text/plain": [
              "2.1666666666666665"
            ]
          },
          "metadata": {},
          "execution_count": 4
        }
      ],
      "source": [
        "my_list = [1.2, 2, 3.3]\n",
        "\n",
        "np.mean(my_list)"
      ]
    },
    {
      "cell_type": "markdown",
      "metadata": {
        "id": "i2WQICPjYCD2"
      },
      "source": [
        "### Calculations and variables"
      ]
    },
    {
      "cell_type": "code",
      "execution_count": 5,
      "metadata": {
        "id": "CWxpDYBkYCD3",
        "outputId": "d39073cd-a2c3-428b-cf9a-fd948825e87f",
        "colab": {
          "base_uri": "https://localhost:8080/"
        }
      },
      "outputs": [
        {
          "output_type": "stream",
          "name": "stdout",
          "text": [
            "Hello\n"
          ]
        },
        {
          "output_type": "execute_result",
          "data": {
            "text/plain": [
              "(0.5, 0, 0.5, 9.600000000000001)"
            ]
          },
          "metadata": {},
          "execution_count": 5
        }
      ],
      "source": [
        "# // is integer division\n",
        "print(\"Hello\")\n",
        "1/2, 1//2, 1.0/2, 3*3.2"
      ]
    },
    {
      "cell_type": "markdown",
      "metadata": {
        "id": "DT6ixaqcYCD3"
      },
      "source": [
        "The last line in a cell is returned as the output value, as above.  For cells with multiple lines of results, we can display results using ``print``, as can be seen below."
      ]
    },
    {
      "cell_type": "code",
      "execution_count": 6,
      "metadata": {
        "id": "oCff0RskYCD3",
        "outputId": "ea279550-92c2-4bd1-dbf0-b0fdb8a5f0e5",
        "colab": {
          "base_uri": "https://localhost:8080/"
        }
      },
      "outputs": [
        {
          "output_type": "stream",
          "name": "stdout",
          "text": [
            "4.0 \n",
            " 9 7\n"
          ]
        },
        {
          "output_type": "execute_result",
          "data": {
            "text/plain": [
              "1.6666666666666667"
            ]
          },
          "metadata": {},
          "execution_count": 6
        }
      ],
      "source": [
        "print(1 + 3.0, \"\\n\", 9, 7)\n",
        "5/3"
      ]
    },
    {
      "cell_type": "markdown",
      "metadata": {
        "id": "qDoKAs1FYCD3"
      },
      "source": [
        "We can store integer or floating point values as variables.  The other basic Python data types -- booleans, strings, lists -- can also be stored as variables."
      ]
    },
    {
      "cell_type": "code",
      "execution_count": null,
      "metadata": {
        "id": "X3TtBxA2YCD3"
      },
      "outputs": [],
      "source": [
        "a = 1\n",
        "b = 2.0"
      ]
    },
    {
      "cell_type": "markdown",
      "metadata": {
        "id": "YbnpeVwZYCD3"
      },
      "source": [
        "Here is the storing of a list"
      ]
    },
    {
      "cell_type": "code",
      "execution_count": null,
      "metadata": {
        "id": "CIqQVV5jYCD3"
      },
      "outputs": [],
      "source": [
        "a = [1, 2, 3]"
      ]
    },
    {
      "cell_type": "markdown",
      "metadata": {
        "id": "gwyEM4_bYCD3"
      },
      "source": [
        "Think of a variable as a label for a value, not a box in which you put the value\n",
        "\n",
        "<img src=\"https://raw.githubusercontent.com/bsethwalker/clemson-cs4300/main/images/sticksnotboxes.png\">\n",
        "\n",
        "(image: Fluent Python by Luciano Ramalho)"
      ]
    },
    {
      "cell_type": "code",
      "execution_count": null,
      "metadata": {
        "id": "RDyAuaC9YCD3",
        "outputId": "3ca13163-90cb-44b7-9193-61672d03f9c8"
      },
      "outputs": [
        {
          "data": {
            "text/plain": [
              "[1, 2, 3]"
            ]
          },
          "execution_count": 24,
          "metadata": {},
          "output_type": "execute_result"
        }
      ],
      "source": [
        "b = a\n",
        "b"
      ]
    },
    {
      "cell_type": "markdown",
      "metadata": {
        "id": "T9h-DNNGYCD3"
      },
      "source": [
        "This DOES NOT create a new copy of `a`. It merely puts a new label on the memory at a, as can be seen by the following code:"
      ]
    },
    {
      "cell_type": "code",
      "execution_count": null,
      "metadata": {
        "id": "s10w5AthYCD4",
        "outputId": "f5e40770-bcba-4730-f995-f1fc9b1aac6c"
      },
      "outputs": [
        {
          "name": "stdout",
          "output_type": "stream",
          "text": [
            "a [1, 2, 3]\n",
            "b [1, 2, 3]\n",
            "a after change [1, 7, 3]\n",
            "b after change [1, 7, 3]\n"
          ]
        }
      ],
      "source": [
        "print(\"a\", a)\n",
        "print(\"b\", b)\n",
        "a[1] = 7\n",
        "print(\"a after change\", a)\n",
        "print(\"b after change\", b)"
      ]
    },
    {
      "cell_type": "markdown",
      "metadata": {
        "id": "gWtXEoP0YCD4"
      },
      "source": [
        "**Tuples**\n",
        "\n",
        "Multiple items on one line in the interface are returned as a *tuple*, an immutable sequence of Python objects. See the end of this notebook for an interesting use of `tuples`."
      ]
    },
    {
      "cell_type": "code",
      "execution_count": null,
      "metadata": {
        "id": "xJO8RdhPYCD4",
        "outputId": "7b7524a6-44ee-46c7-821b-9156edda6fce"
      },
      "outputs": [
        {
          "data": {
            "text/plain": [
              "(2, -1.0, 4.0, 10)"
            ]
          },
          "execution_count": 26,
          "metadata": {},
          "output_type": "execute_result"
        }
      ],
      "source": [
        "a = 1\n",
        "b = 2.0\n",
        "a + a, a - b, b * b, 10*a"
      ]
    },
    {
      "cell_type": "markdown",
      "metadata": {
        "id": "5fmiy_6GYCD4"
      },
      "source": [
        "#### `type()`\n",
        "\n",
        "We can obtain the type of a variable, and use boolean comparisons to test these types. VERY USEFUL when things go wrong and you cannot understand why this method does not work on a specific variable!"
      ]
    },
    {
      "cell_type": "code",
      "execution_count": null,
      "metadata": {
        "id": "OaNUxwmoYCD4",
        "outputId": "18726254-92e1-4594-a354-76923ba23079"
      },
      "outputs": [
        {
          "data": {
            "text/plain": [
              "False"
            ]
          },
          "execution_count": 27,
          "metadata": {},
          "output_type": "execute_result"
        }
      ],
      "source": [
        "type(a) == float"
      ]
    },
    {
      "cell_type": "code",
      "execution_count": null,
      "metadata": {
        "id": "_4Gvnf-FYCD4",
        "outputId": "f8ec6c74-3ed2-4a7b-a5e1-ac13f04c7315"
      },
      "outputs": [
        {
          "data": {
            "text/plain": [
              "True"
            ]
          },
          "execution_count": 28,
          "metadata": {},
          "output_type": "execute_result"
        }
      ],
      "source": [
        "type(a) == int"
      ]
    },
    {
      "cell_type": "code",
      "execution_count": null,
      "metadata": {
        "id": "JOzDJgUyYCD4",
        "outputId": "84206c88-a8fb-4e29-bf57-efc869237c16"
      },
      "outputs": [
        {
          "data": {
            "text/plain": [
              "int"
            ]
          },
          "execution_count": 29,
          "metadata": {},
          "output_type": "execute_result"
        }
      ],
      "source": [
        "type(a)"
      ]
    },
    {
      "cell_type": "markdown",
      "metadata": {
        "id": "mLTkwjJNYCD4"
      },
      "source": [
        "For reference, below are common arithmetic and comparison operations.\n",
        "\n",
        "<img style=\"width: 600px\" src=\"https://raw.githubusercontent.com/bsethwalker/clemson-cs4300/main/images/ops1_v2.png\">\n",
        "\n",
        "<img style=\"width: 650px\" src=\"https://raw.githubusercontent.com/bsethwalker/clemson-cs4300/main/images/ops2_v2.png\">\n"
      ]
    },
    {
      "cell_type": "markdown",
      "metadata": {
        "id": "S83dvPjiYCD4"
      },
      "source": [
        "<div class='exercise'> <b> EXERCISE 1:  Create a tuple called `tup` with the following seven objects: </div>\n",
        "\n",
        "- The first element is an integer of your choice\n",
        "- The second element is a float of your choice  \n",
        "- The third element is the sum of the first two elements\n",
        "- The fourth element is the difference of the first two elements\n",
        "- The fifth element is the first element divided by the second element\n",
        "\n",
        "- Display the output of `tup`.  What is the type of the variable `tup`? What happens if you try and chage an item in the tuple?"
      ]
    },
    {
      "cell_type": "code",
      "execution_count": 10,
      "metadata": {
        "id": "4uNGfnorYCD4",
        "colab": {
          "base_uri": "https://localhost:8080/"
        },
        "outputId": "54339a2b-fea5-4040-e770-76a6fd37c2f9"
      },
      "outputs": [
        {
          "output_type": "stream",
          "name": "stdout",
          "text": [
            "Tuple: (15, 15.5, 30.5, -0.5, 0.967741935483871)\n",
            "Type of `tup`: <class 'tuple'>\n",
            "Error: 'tuple' object does not support item assignment\n"
          ]
        }
      ],
      "source": [
        "integer_value = 15\n",
        "float_value = 15.5\n",
        "\n",
        "tup = (\n",
        "    integer_value,\n",
        "    float_value,\n",
        "    integer_value + float_value,\n",
        "    integer_value - float_value,\n",
        "    integer_value / float_value\n",
        ")\n",
        "\n",
        "print(\"Tuple:\", tup)\n",
        "print(\"Type of `tup`:\", type(tup))\n",
        "\n",
        "try:\n",
        "    tup[0] = 55\n",
        "except TypeError as e:\n",
        "    print(\"Error:\", e)\n"
      ]
    },
    {
      "cell_type": "markdown",
      "metadata": {
        "id": "muyoaZwmYCD5"
      },
      "source": [
        "### Lists\n",
        "\n",
        "Much of Python is based on the notion of a list.  In Python, a list is a sequence of items separated by commas, all within square brackets.  The items can be integers, floating points, or another type.  Unlike in C arrays, items in a Python list can be different types, so Python lists are more versatile than traditional arrays in C or other languages.\n",
        "\n",
        "Let's start out by creating a few lists.  "
      ]
    },
    {
      "cell_type": "code",
      "execution_count": null,
      "metadata": {
        "id": "KFV4wMzmYCD5"
      },
      "outputs": [],
      "source": [
        "empty_list = []\n",
        "float_list = [1., 3., 5., 4., 2.]\n",
        "int_list = [1, 2, 3, 4, 5, 6, 7, 8, 9, 10]\n",
        "mixed_list = [1, 2., 3, 4., 5]\n",
        "\n",
        "print(empty_list)\n",
        "print(int_list)\n",
        "print(mixed_list, float_list)"
      ]
    },
    {
      "cell_type": "markdown",
      "metadata": {
        "id": "hHfnmhWSYCD5"
      },
      "source": [
        "Lists in Python are zero-indexed, as in C.  The first entry of the list has index 0, the second has index 1, and so on."
      ]
    },
    {
      "cell_type": "code",
      "execution_count": null,
      "metadata": {
        "id": "TzWHJMypYCD5"
      },
      "outputs": [],
      "source": [
        "print(int_list[0])\n",
        "print(float_list[1])"
      ]
    },
    {
      "cell_type": "markdown",
      "metadata": {
        "id": "0MJsGxmqYCD5"
      },
      "source": [
        "What happens if we try to use an index that doesn't exist for that list?  Python will complain!"
      ]
    },
    {
      "cell_type": "code",
      "execution_count": null,
      "metadata": {
        "id": "K3IXfE8IYCD6"
      },
      "outputs": [],
      "source": [
        "print(float_list[10])"
      ]
    },
    {
      "cell_type": "markdown",
      "metadata": {
        "id": "YPy5p9q3YCD6"
      },
      "source": [
        "You can find the length of a list using the built-in function `len`:"
      ]
    },
    {
      "cell_type": "code",
      "execution_count": null,
      "metadata": {
        "id": "AFlFom5ZYCD6"
      },
      "outputs": [],
      "source": [
        "print(float_list)\n",
        "len(float_list)"
      ]
    },
    {
      "cell_type": "markdown",
      "metadata": {
        "id": "3rvmmftoYCD6"
      },
      "source": [
        "### Indexing on lists plus Slicing"
      ]
    },
    {
      "cell_type": "markdown",
      "metadata": {
        "id": "DCcywz6OYCD6"
      },
      "source": [
        "And since Python is zero-indexed, the last element of `float_list` is"
      ]
    },
    {
      "cell_type": "code",
      "execution_count": null,
      "metadata": {
        "id": "_gu_buj7YCD6"
      },
      "outputs": [],
      "source": [
        "float_list[len(float_list)-1]"
      ]
    },
    {
      "cell_type": "markdown",
      "metadata": {
        "id": "J85DJs07YCD6"
      },
      "source": [
        "It is more idiomatic in Python to use -1 for the last element, -2 for the second last, and so on"
      ]
    },
    {
      "cell_type": "code",
      "execution_count": null,
      "metadata": {
        "id": "cvShB_KIYCD6"
      },
      "outputs": [],
      "source": [
        "float_list[-3]"
      ]
    },
    {
      "cell_type": "markdown",
      "metadata": {
        "id": "FuRApdlEYCD6"
      },
      "source": [
        "We can use the ``:`` operator to access a subset of the list.  This is called **slicing.**"
      ]
    },
    {
      "cell_type": "code",
      "execution_count": null,
      "metadata": {
        "id": "zrLstnlxYCD6"
      },
      "outputs": [],
      "source": [
        "print(float_list[1:-1])\n",
        "print(float_list[0:2])"
      ]
    },
    {
      "cell_type": "markdown",
      "metadata": {
        "id": "JXNlRLv0YCD6"
      },
      "source": [
        "Below is a summary of list slicing operations:\n",
        "\n",
        "<img src=\"https://raw.githubusercontent.com/bsethwalker/clemson-cs4300/main/images/ops3_v2.png\" alt=\"Drawing\" style=\"width: 600px;\"/>"
      ]
    },
    {
      "cell_type": "code",
      "execution_count": null,
      "metadata": {
        "id": "pyEkS2SkYCD6"
      },
      "outputs": [],
      "source": [
        "lst = ['hi', 7, 'c', 'cat', 'hello', 8]\n",
        "lst[:2]"
      ]
    },
    {
      "cell_type": "markdown",
      "metadata": {
        "id": "iCNX_3YfYCD7"
      },
      "source": [
        "You can slice \"backwards\" as well:"
      ]
    },
    {
      "cell_type": "code",
      "execution_count": null,
      "metadata": {
        "id": "WaESnmz9YCD7"
      },
      "outputs": [],
      "source": [
        "float_list[:-2] # up to second last"
      ]
    },
    {
      "cell_type": "code",
      "execution_count": null,
      "metadata": {
        "id": "EZvXclfVYCD7"
      },
      "outputs": [],
      "source": [
        "float_list[:4] # up to but not including 5th element"
      ]
    },
    {
      "cell_type": "markdown",
      "metadata": {
        "id": "EG8n6dpMYCD7"
      },
      "source": [
        "You can also slice with a stride:"
      ]
    },
    {
      "cell_type": "code",
      "execution_count": null,
      "metadata": {
        "id": "i5ofYAnvYCD7"
      },
      "outputs": [],
      "source": [
        "float_list[:4:2] # above but skipping every second element"
      ]
    },
    {
      "cell_type": "markdown",
      "metadata": {
        "id": "gYcY71ppYCD7"
      },
      "source": [
        "We can iterate through a list using a loop.  Here's a **for loop.**"
      ]
    },
    {
      "cell_type": "code",
      "execution_count": null,
      "metadata": {
        "id": "HqDESvtSYCD7"
      },
      "outputs": [],
      "source": [
        "for ele in float_list:\n",
        "    print(ele)"
      ]
    },
    {
      "cell_type": "markdown",
      "metadata": {
        "id": "XtRcfWJcYCD7"
      },
      "source": [
        "What if you wanted the index as well?"
      ]
    },
    {
      "cell_type": "markdown",
      "metadata": {
        "id": "Or7Pwmq6YCD7"
      },
      "source": [
        "Use the built-in python method `enumerate`,  which can be used to create a list of tuples with each tuple of the form `(index, value)`."
      ]
    },
    {
      "cell_type": "code",
      "execution_count": null,
      "metadata": {
        "id": "J5SXhTwUYCD7"
      },
      "outputs": [],
      "source": [
        "for i, ele in enumerate(float_list):\n",
        "    print(i, e)"
      ]
    },
    {
      "cell_type": "markdown",
      "metadata": {
        "id": "37tBR2MQYCD7"
      },
      "source": [
        "### Appending and deleting"
      ]
    },
    {
      "cell_type": "markdown",
      "metadata": {
        "id": "W03HEUCPYCD7"
      },
      "source": [
        "We can also append items to the end of the list using the `+` operator or with `append`."
      ]
    },
    {
      "cell_type": "code",
      "execution_count": null,
      "metadata": {
        "id": "s1W7wxIoYCD7"
      },
      "outputs": [],
      "source": [
        "new_list = float_list + [.333]\n",
        "new_list"
      ]
    },
    {
      "cell_type": "code",
      "execution_count": null,
      "metadata": {
        "id": "I2bXbaUQYCD7"
      },
      "outputs": [],
      "source": [
        "float_list.append(.444)"
      ]
    },
    {
      "cell_type": "code",
      "execution_count": null,
      "metadata": {
        "id": "l5kN75gTYCD8"
      },
      "outputs": [],
      "source": [
        "print(float_list)\n",
        "len(float_list)"
      ]
    },
    {
      "cell_type": "markdown",
      "metadata": {
        "id": "ATaDScBAYCD8"
      },
      "source": [
        "Now, run the cell with `float_list.append()` a second time. Then run the subsequent cell. What happens?  \n",
        "\n",
        "To remove an item from the list, use `del.`"
      ]
    },
    {
      "cell_type": "code",
      "execution_count": null,
      "metadata": {
        "id": "Bq07LtulYCD8"
      },
      "outputs": [],
      "source": [
        "del(float_list[2])\n",
        "print(float_list)"
      ]
    },
    {
      "cell_type": "markdown",
      "metadata": {
        "id": "P8F9VDBjYCD8"
      },
      "source": [
        "You may also add an element (elem) in a specific position (index) in the list"
      ]
    },
    {
      "cell_type": "code",
      "execution_count": null,
      "metadata": {
        "id": "w6HZP7qBYCD8"
      },
      "outputs": [],
      "source": [
        "elem = '3.14'\n",
        "index = 1\n",
        "float_list.insert(index, elem)\n",
        "float_list"
      ]
    },
    {
      "cell_type": "markdown",
      "metadata": {
        "id": "lPBgwKhUYCD8"
      },
      "source": [
        "### List Comprehensions\n",
        "\n",
        "Lists can be constructed in a compact way using a *list comprehension*.  Here's a simple example."
      ]
    },
    {
      "cell_type": "code",
      "execution_count": null,
      "metadata": {
        "id": "LfqARq1RYCD8"
      },
      "outputs": [],
      "source": [
        "int_list"
      ]
    },
    {
      "cell_type": "code",
      "execution_count": null,
      "metadata": {
        "id": "rvbChYfsYCD8"
      },
      "outputs": [],
      "source": [
        "squaredlist = []\n",
        "\n",
        "for i in int_list:\n",
        "    squaredlist.append(i*i)"
      ]
    },
    {
      "cell_type": "code",
      "execution_count": null,
      "metadata": {
        "id": "Zpstdi80YCD8"
      },
      "outputs": [],
      "source": [
        "squaredlist = [i*i for i in int_list]\n",
        "squaredlist"
      ]
    },
    {
      "cell_type": "markdown",
      "metadata": {
        "id": "6Knu9OO2YCD8"
      },
      "source": [
        "And here's a more complicated one, requiring a conditional."
      ]
    },
    {
      "cell_type": "code",
      "execution_count": null,
      "metadata": {
        "id": "N1ymxlk8YCD8"
      },
      "outputs": [],
      "source": [
        "comp_list1 = [2*i for i in squaredlist if i % 2 == 0]\n",
        "print(comp_list1)"
      ]
    },
    {
      "cell_type": "markdown",
      "metadata": {
        "id": "rzS16rcdYCD8"
      },
      "source": [
        "This is entirely equivalent to creating `comp_list1` using a loop with a conditional, as below:"
      ]
    },
    {
      "cell_type": "code",
      "execution_count": null,
      "metadata": {
        "id": "U_hUL1uxYCD8"
      },
      "outputs": [],
      "source": [
        "comp_list2 = []\n",
        "for i in squaredlist:\n",
        "    if i % 2 == 0:\n",
        "        comp_list2.append(2*i)\n",
        "\n",
        "print(comp_list2)"
      ]
    },
    {
      "cell_type": "markdown",
      "metadata": {
        "id": "f6WmDC2AYCD9"
      },
      "source": [
        "The list comprehension syntax\n",
        "\n",
        "```\n",
        "[expression for item in list if conditional]\n",
        "\n",
        "```\n",
        "\n",
        "is equivalent to the syntax\n",
        "\n",
        "```\n",
        "for item in list:\n",
        "    if conditional:\n",
        "        expression\n",
        "```"
      ]
    },
    {
      "cell_type": "markdown",
      "metadata": {
        "id": "-cdA7wn7YCD9"
      },
      "source": [
        "<div class='exercise'><b> Exercise 2: Build a list that contains every prime number between 1 and 100, in two different ways: </div>\n",
        "    \n",
        "- 2.1 Using for loops and conditional if statements.\n",
        "- 2.2 **(Stretch Goal)** Using a list comprehension.  You should be able to do this in one line of code. **Hint:** it might help to look up the function `all()` in the documentation."
      ]
    },
    {
      "cell_type": "code",
      "execution_count": 12,
      "metadata": {
        "id": "7rZFvnL0YCD9",
        "colab": {
          "base_uri": "https://localhost:8080/"
        },
        "outputId": "754c4662-3b5e-4ac3-e54b-bce2f7f02abb"
      },
      "outputs": [
        {
          "output_type": "stream",
          "name": "stdout",
          "text": [
            "Using for loops and conditionals: [2, 3, 5, 7, 11, 13, 17, 19, 23, 29, 31, 37, 41, 43, 47, 53, 59, 61, 67, 71, 73, 79, 83, 89, 97]\n",
            "Using list comprehension: [2, 3, 5, 7, 11, 13, 17, 19, 23, 29, 31, 37, 41, 43, 47, 53, 59, 61, 67, 71, 73, 79, 83, 89, 97]\n"
          ]
        }
      ],
      "source": [
        "def prime(n):\n",
        "  if n <= 1:\n",
        "    return False\n",
        "  if n == 2:\n",
        "    return True\n",
        "  if n % 2 == 0:\n",
        "    return False\n",
        "  for i in range(3, int(n**0.5) + 1, 2):\n",
        "    if n % i == 0:\n",
        "      return False\n",
        "  return True\n",
        "\n",
        "primes = []\n",
        "for num in range(1, 101):\n",
        "    if prime(num):\n",
        "        primes.append(num)\n",
        "\n",
        "print(\"Using for loops and conditionals:\", primes)\n",
        "\n",
        "primes_comprehension = [\n",
        "    num for num in range(2, 101)\n",
        "    if all(num % i != 0 for i in range(2, int(num**0.5) + 1))\n",
        "]\n",
        "\n",
        "print(\"Using list comprehension:\", primes_comprehension)\n"
      ]
    },
    {
      "cell_type": "markdown",
      "metadata": {
        "id": "D-b_bUF4YCD9"
      },
      "source": [
        "## Simple Functions\n",
        "\n",
        "A *function* object is a reusable block of code that does a specific task.  Functions are commonplace in Python, either on their own or as they belong to other objects. To invoke a function `func`, you call it as `func(arguments)`.\n",
        "\n",
        "We've seen built-in Python functions and methods (details below). For example, `len()` and `print()` are built-in Python functions. And at the beginning, you called `np.mean()` to calculate the mean of three numbers, where `mean()` is a function in the numpy module and numpy was abbreviated as `np`. This syntax allows us to have multiple \"mean\" functions in different modules; calling this one as `np.mean()` guarantees that we will execute numpy's mean function, as opposed to a mean function from a different module."
      ]
    },
    {
      "cell_type": "markdown",
      "metadata": {
        "id": "Pc7wRlLSYCD9"
      },
      "source": [
        "### User-defined functions\n",
        "\n",
        "We'll now learn to write our own user-defined functions.  Below is the syntax for defining a basic function with one input argument and one output. You can also define functions with no input or output arguments, or multiple input or output arguments.\n",
        "\n",
        "```\n",
        "def name_of_function(arg):\n",
        "    ...\n",
        "    return(output)\n",
        "```\n",
        "\n",
        "We can write functions with one input and one output argument.  Here are two such functions."
      ]
    },
    {
      "cell_type": "code",
      "execution_count": null,
      "metadata": {
        "id": "esaRpNeqYCD9"
      },
      "outputs": [],
      "source": [
        "def square(x):\n",
        "\n",
        "    x_sqr = x*x\n",
        "    return(x_sqr)\n",
        "\n",
        "def cube(x):\n",
        "\n",
        "    x_cub = x*x*x\n",
        "    return(x_cub)\n",
        "\n",
        "square(5),cube(5)"
      ]
    },
    {
      "cell_type": "markdown",
      "metadata": {
        "id": "w_Ln8UjvYCD9"
      },
      "source": [
        "What if you want to return two variables at a time? The usual way is to return a tuple:"
      ]
    },
    {
      "cell_type": "code",
      "execution_count": null,
      "metadata": {
        "id": "EFtx9a_3YCD9"
      },
      "outputs": [],
      "source": [
        "def square_and_cube(x):\n",
        "    x_cub = x*x*x\n",
        "    x_sqr = x*x\n",
        "\n",
        "    return(x_sqr, x_cub)\n",
        "\n",
        "square_and_cube(5)"
      ]
    },
    {
      "cell_type": "markdown",
      "metadata": {
        "id": "2jt6Ot73YCD9"
      },
      "source": [
        "### Lambda functions\n",
        "\n",
        "Often we quickly define mathematical functions with a one-line function called a *lambda* function.  Lambda functions are great because they enable us to write functions without having to name them, ie, they're *anonymous*.  \n",
        "No return statement is needed.\n"
      ]
    },
    {
      "cell_type": "code",
      "execution_count": null,
      "metadata": {
        "id": "TZ2dueAZYCD9"
      },
      "outputs": [],
      "source": [
        "# create an anonymous function and assign it to the variable square\n",
        "square = lambda x: x*x\n",
        "print(square(3))\n",
        "\n",
        "hypotenuse = lambda x, y: x*x + y*y\n",
        "\n",
        "## Same as\n",
        "# def hypotenuse(x, y):\n",
        "#     return(x*x + y*y)\n",
        "\n",
        "hypotenuse(3,4)"
      ]
    },
    {
      "cell_type": "markdown",
      "metadata": {
        "id": "SDm4KovVYCD9"
      },
      "source": [
        "### Methods\n",
        "A function that belongs to an object is called a *method*. By \"object,\" we mean an \"instance\" of a class (e.g., list, integer, or floating point variable).\n",
        "\n",
        "For example, when we invoke `append()` on an existing list, `append()` is a method.\n",
        "\n",
        "In other words, a *method* is a function on a specific *instance* of a class (i.e., *object*). In this example, our class is a list. `float_list` is an instance of a list (thus, an object), and the `append()` function is technically a *method* since it pertains to the specific instance `float_list`."
      ]
    },
    {
      "cell_type": "code",
      "execution_count": null,
      "metadata": {
        "id": "rZ6PlV7yYCD9"
      },
      "outputs": [],
      "source": [
        "float_list = [1.0, 2.09, 4.0, 2.0, 0.444]\n",
        "print(float_list)\n",
        "float_list.append(56.7)\n",
        "float_list"
      ]
    },
    {
      "cell_type": "markdown",
      "metadata": {
        "id": "Q335U8MjYCD9"
      },
      "source": [
        "<div class='exercise'><b> Exercise 3: generate a list of the prime numbers between 1 and 100</div>\n",
        "    \n",
        "In Exercise 2, above, you wrote code that generated a list of the prime numbers between 1 and 100. Now, write a function called `isprime()` that takes in a positive integer $N$, and determines whether or not it is prime.  Return `True` if it's prime and return `False` if it isn't. Then, using a list comprehension and `isprime()`, create a list `myprimes` that contains all the prime numbers less than 100.  "
      ]
    },
    {
      "cell_type": "code",
      "execution_count": 13,
      "metadata": {
        "id": "iuNMFxGtYCD9",
        "colab": {
          "base_uri": "https://localhost:8080/"
        },
        "outputId": "5c9ba7a7-eb9f-4ec8-f8fa-16629db78cd9"
      },
      "outputs": [
        {
          "output_type": "stream",
          "name": "stdout",
          "text": [
            "Numbers less than 100: [2, 3, 5, 7, 11, 13, 17, 19, 23, 29, 31, 37, 41, 43, 47, 53, 59, 61, 67, 71, 73, 79, 83, 89, 97]\n"
          ]
        }
      ],
      "source": [
        "def isprime(N):\n",
        "    if N <= 1:\n",
        "        return False\n",
        "    if N == 2:\n",
        "        return True\n",
        "    if N % 2 == 0:\n",
        "        return False\n",
        "    for i in range(3, int(N**0.5) + 1, 2):\n",
        "        if N % i == 0:\n",
        "            return False\n",
        "    return True\n",
        "\n",
        "myprimes = [num for num in range(2, 100) if isprime(num)]\n",
        "\n",
        "print(\"Numbers less than 100:\", myprimes)\n",
        "\n"
      ]
    },
    {
      "cell_type": "markdown",
      "metadata": {
        "id": "LacqcADwYCD-"
      },
      "source": [
        "## Introduction to Numpy\n",
        "Scientific Python code uses a fast array structure, called the numpy array. Those who have programmed in Matlab will find this very natural. For reference, the numpy documention can be found [here](https://docs.scipy.org/doc/numpy/reference/).  \n",
        "\n",
        "Let's make a numpy array:"
      ]
    },
    {
      "cell_type": "code",
      "execution_count": null,
      "metadata": {
        "id": "jmBZ385pYCD-"
      },
      "outputs": [],
      "source": [
        "my_array = np.array([1, 2, 3, 4])\n",
        "my_array"
      ]
    },
    {
      "cell_type": "code",
      "execution_count": null,
      "metadata": {
        "id": "vHWJsIY2YCD-"
      },
      "outputs": [],
      "source": [
        "# works as it would with a standard list\n",
        "len(my_array)"
      ]
    },
    {
      "cell_type": "markdown",
      "metadata": {
        "id": "nF-mhr6xYCD-"
      },
      "source": [
        "The shape array of an array is very useful (we'll see more of it later when we talk about 2D arrays -- matrices -- and higher-dimensional arrays)."
      ]
    },
    {
      "cell_type": "code",
      "execution_count": null,
      "metadata": {
        "id": "Pe-ISRYxYCD-"
      },
      "outputs": [],
      "source": [
        "my_array.shape"
      ]
    },
    {
      "cell_type": "markdown",
      "metadata": {
        "id": "EPvQsPRGYCD-"
      },
      "source": [
        "Numpy arrays are **typed**. This means that by default, all the elements will be assumed to be of the same type (e.g., integer, float, String)."
      ]
    },
    {
      "cell_type": "code",
      "execution_count": null,
      "metadata": {
        "id": "eAhUhErrYCD-"
      },
      "outputs": [],
      "source": [
        "my_array.dtype"
      ]
    },
    {
      "cell_type": "markdown",
      "metadata": {
        "id": "BJljwHjRYCD-"
      },
      "source": [
        "Numpy arrays have similar functionality as lists! Below, we compute the length, slice the array, and iterate through it (one could identically perform the same with a list)."
      ]
    },
    {
      "cell_type": "code",
      "execution_count": null,
      "metadata": {
        "id": "ix4pjJa8YCD-"
      },
      "outputs": [],
      "source": [
        "print(len(my_array))\n",
        "print(my_array[2:4])\n",
        "\n",
        "for ele in my_array:\n",
        "    print(ele)"
      ]
    },
    {
      "cell_type": "markdown",
      "metadata": {
        "id": "R9FgS5ZOYCD-"
      },
      "source": [
        "There are two ways to manipulate numpy arrays a) by using the numpy module's methods (e.g., `np.mean()`) or b) by applying the function np.mean() with the numpy array as an argument."
      ]
    },
    {
      "cell_type": "code",
      "execution_count": null,
      "metadata": {
        "id": "67awgPH3YCD-"
      },
      "outputs": [],
      "source": [
        "print(my_array.mean())\n",
        "print(np.mean(my_array))"
      ]
    },
    {
      "cell_type": "markdown",
      "metadata": {
        "id": "4yU6pOmkYCD-"
      },
      "source": [
        "A ``constructor`` is a general programming term that refers to the mechanism for creating a new object (e.g., list, array, String).\n",
        "\n",
        "There are many other efficient ways to construct numpy arrays. Here are some commonly used numpy array constructors. Read more details in the numpy documentation."
      ]
    },
    {
      "cell_type": "code",
      "execution_count": null,
      "metadata": {
        "id": "nko2jj9GYCD-"
      },
      "outputs": [],
      "source": [
        "np.ones(10) # generates 10 floating point ones"
      ]
    },
    {
      "cell_type": "markdown",
      "metadata": {
        "id": "nrjPeRpGYCD-"
      },
      "source": [
        "Numpy gains a lot of its efficiency from being typed. That is, all elements in the array have the same type, such as integer or floating point. The default type, as can be seen above, is a float. (Each float uses either 32 or 64 bits of memory, depending on if the code is running a 32-bit or 64-bit machine, respectively)."
      ]
    },
    {
      "cell_type": "code",
      "execution_count": null,
      "metadata": {
        "id": "P2QafnC2YCD-"
      },
      "outputs": [],
      "source": [
        "np.dtype(float).itemsize # in bytes (remember, 1 byte = 8 bits)"
      ]
    },
    {
      "cell_type": "code",
      "execution_count": null,
      "metadata": {
        "id": "6dDxspo3YCD-"
      },
      "outputs": [],
      "source": [
        "np.ones(10, dtype='int') # generates 10 integer ones"
      ]
    },
    {
      "cell_type": "code",
      "execution_count": null,
      "metadata": {
        "id": "XakV64pDYCD_"
      },
      "outputs": [],
      "source": [
        "np.zeros(10)"
      ]
    },
    {
      "cell_type": "markdown",
      "metadata": {
        "id": "txqg48WcYCD_"
      },
      "source": [
        "Often, you will want random numbers. Use the `random` constructor!"
      ]
    },
    {
      "cell_type": "code",
      "execution_count": null,
      "metadata": {
        "id": "LccEvaNQYCD_"
      },
      "outputs": [],
      "source": [
        "np.random.random(10) # uniform from [0,1]"
      ]
    },
    {
      "cell_type": "markdown",
      "metadata": {
        "id": "GsFcNjuUYCD_"
      },
      "source": [
        "You can generate random numbers from a normal distribution with mean 0 and variance 1:"
      ]
    },
    {
      "cell_type": "code",
      "execution_count": null,
      "metadata": {
        "id": "GEz2XoTGYCD_"
      },
      "outputs": [],
      "source": [
        "normal_array = np.random.randn(1000)\n",
        "print(\"The sample mean and standard devation are %f and %f, respectively.\" %(np.mean(normal_array), np.std(normal_array)))"
      ]
    },
    {
      "cell_type": "code",
      "execution_count": null,
      "metadata": {
        "id": "LxYAhGYmYCD_"
      },
      "outputs": [],
      "source": [
        "len(normal_array)"
      ]
    },
    {
      "cell_type": "markdown",
      "metadata": {
        "id": "TRBhQaF6YCD_"
      },
      "source": [
        "You can sample with and without replacement from an array. Let's first construct a list with evenly-spaced values:"
      ]
    },
    {
      "cell_type": "code",
      "execution_count": null,
      "metadata": {
        "id": "sw9zptWQYCD_"
      },
      "outputs": [],
      "source": [
        "grid = np.arange(0., 1.01, 0.1)\n",
        "grid"
      ]
    },
    {
      "cell_type": "markdown",
      "metadata": {
        "id": "Xbz-uNVxYCD_"
      },
      "source": [
        "Without replacement"
      ]
    },
    {
      "cell_type": "code",
      "execution_count": null,
      "metadata": {
        "id": "coSyHDpfYCD_"
      },
      "outputs": [],
      "source": [
        "np.random.choice(grid, 5, replace=False)"
      ]
    },
    {
      "cell_type": "code",
      "execution_count": null,
      "metadata": {
        "id": "IDIdyfMMYCD_"
      },
      "outputs": [],
      "source": [
        "np.random.choice(grid, 20, replace=False)"
      ]
    },
    {
      "cell_type": "markdown",
      "metadata": {
        "id": "WzOFgIi6YCD_"
      },
      "source": [
        "With replacement:"
      ]
    },
    {
      "cell_type": "code",
      "execution_count": null,
      "metadata": {
        "id": "FI9i7Cy3YCD_"
      },
      "outputs": [],
      "source": [
        "np.random.choice(grid, 20, replace=True)"
      ]
    },
    {
      "cell_type": "markdown",
      "metadata": {
        "id": "R74ecdmBYCD_"
      },
      "source": [
        "## Tensors\n",
        "\n",
        "We can think of tensors as a name to include multidimensional arrays of numerical values. While tensors first emerged in the 20th century, they have since been applied to numerous other disciplines, including machine learning. In this class you will only be using **scalars**, **vectors**, and **2D arrays**, so you do not need to worry about the name 'tensor'.\n",
        "\n",
        "We will use the following naming conventions:\n",
        "\n",
        "- scalar = just a number = rank 0 tensor  ($a$ ∈ $F$,)\n",
        "<BR><BR>\n",
        "- vector = 1D array = rank 1 tensor ( $x = (\\;x_1,...,x_i\\;)⊤$ ∈ $F^n$ )\n",
        "<BR><BR>\n",
        "- matrix = 2D array = rank 2 tensor ( $\\textbf{X} = [a_{ij}] ∈ F^{m×n}$ )\n",
        "<BR><BR>\n",
        "- 3D array = rank 3 tensor ( $\\mathscr{X} =[t_{i,j,k}]∈F^{m×n×l}$ )\n",
        "<BR><BR>\n",
        "- $\\mathscr{N}$D array = rank $\\mathscr{N}$ tensor ( $\\mathscr{T} =[t_{i1},...,t_{i\\mathscr{N}}]∈F^{n_1×...×n_\\mathscr{N}}$ )\n",
        "\n",
        "\n",
        "### Slicing a 2D array"
      ]
    },
    {
      "cell_type": "markdown",
      "metadata": {
        "id": "CabGuwIvYCD_"
      },
      "source": [
        "<img src=\"https://raw.githubusercontent.com/bsethwalker/clemson-cs4300/main/images/slicing_2D_oreilly.png\" alt=\"Drawing\" style=\"width: 400px;\"/>\n",
        "\n",
        "[source:oreilly](https://www.oreilly.com/library/view/python-for-data/9781449323592/ch04.html)"
      ]
    },
    {
      "cell_type": "code",
      "execution_count": null,
      "metadata": {
        "id": "3r_V-S5JYCD_"
      },
      "outputs": [],
      "source": [
        "# how do we get just the second row of the above array?"
      ]
    },
    {
      "cell_type": "markdown",
      "metadata": {
        "id": "yeDmcBqFYCEA"
      },
      "source": [
        "#### Numpy supports vector operations\n",
        "\n",
        "What does this mean? It means that instead of adding two arrays, element by element, you can just say: add the two arrays."
      ]
    },
    {
      "cell_type": "code",
      "execution_count": null,
      "metadata": {
        "id": "lAALX_RlYCEA"
      },
      "outputs": [],
      "source": [
        "first = np.ones(5)\n",
        "second = np.ones(5)\n",
        "first + second # adds in-place"
      ]
    },
    {
      "cell_type": "markdown",
      "metadata": {
        "id": "2vd3MPO2YCEA"
      },
      "source": [
        "Note that this behavior is very different from python lists where concatenation happens."
      ]
    },
    {
      "cell_type": "code",
      "execution_count": null,
      "metadata": {
        "id": "Q8vkn3cDYCEA"
      },
      "outputs": [],
      "source": [
        "first_list = np.array([1., 1., 1., 1., 1.])\n",
        "second_list = [1., 1., 1., 1., 1.]\n",
        "first_list + second_list # concatenation"
      ]
    },
    {
      "cell_type": "markdown",
      "metadata": {
        "id": "Oik-QlW4YCEA"
      },
      "source": [
        "On some computer chips, this numpy addition actually happens in parallel and can yield significant increases in speed. But even on regular chips, the advantage of greater readability is important."
      ]
    },
    {
      "cell_type": "markdown",
      "metadata": {
        "id": "gG3vEkrrYCEA"
      },
      "source": [
        "#### Broadcasting\n",
        "\n",
        "Numpy supports a concept known as *broadcasting*, which dictates how arrays of different sizes are combined together. There are too many rules to list here, but importantly, multiplying an array by a number multiplies each element by the number. Adding a number adds the number to each element."
      ]
    },
    {
      "cell_type": "code",
      "execution_count": null,
      "metadata": {
        "id": "l8sBZeFlYCEA"
      },
      "outputs": [],
      "source": [
        "first_list + 1"
      ]
    },
    {
      "cell_type": "code",
      "execution_count": null,
      "metadata": {
        "id": "AGE6QYh5YCEA"
      },
      "outputs": [],
      "source": [
        "first*5"
      ]
    },
    {
      "cell_type": "markdown",
      "metadata": {
        "id": "vKpaafHXYCEA"
      },
      "source": [
        "This means that if you wanted the distribution $N(5, 7)$ you could do:"
      ]
    },
    {
      "cell_type": "code",
      "execution_count": null,
      "metadata": {
        "id": "lAQ_eRy0YCEA"
      },
      "outputs": [],
      "source": [
        "normal_5_7 = 5 + 7*normal_array\n",
        "np.mean(normal_5_7), np.std(normal_5_7)"
      ]
    },
    {
      "cell_type": "markdown",
      "metadata": {
        "id": "FzElNUJCYCEA"
      },
      "source": [
        "Multiplying two arrays multiplies them element-by-element"
      ]
    },
    {
      "cell_type": "code",
      "execution_count": null,
      "metadata": {
        "id": "283FEQUUYCEA"
      },
      "outputs": [],
      "source": [
        "(first +1) * (first*5)"
      ]
    },
    {
      "cell_type": "markdown",
      "metadata": {
        "id": "VkV-U_AFYCEA"
      },
      "source": [
        "You might have wanted to compute the dot product instead:"
      ]
    },
    {
      "cell_type": "code",
      "execution_count": null,
      "metadata": {
        "id": "k8zP_T7yYCEA"
      },
      "outputs": [],
      "source": [
        "np.dot((first +1) , (first*5))"
      ]
    },
    {
      "cell_type": "markdown",
      "metadata": {
        "id": "24SqBj83YCEA"
      },
      "source": [
        "## Probabilitiy Distributions from `scipy.stats` and `statsmodels`\n",
        "\n",
        "Two useful statistics libraries in python are `scipy` and `statsmodels`.\n",
        "\n",
        "For example to load the z_test:"
      ]
    },
    {
      "cell_type": "code",
      "execution_count": null,
      "metadata": {
        "id": "A7u6ofF4YCEA"
      },
      "outputs": [],
      "source": [
        "import statsmodels\n",
        "from statsmodels.stats.proportion import proportions_ztest"
      ]
    },
    {
      "cell_type": "code",
      "execution_count": null,
      "metadata": {
        "id": "jv8KVna2YCEA"
      },
      "outputs": [],
      "source": [
        "x = np.array([74,100])\n",
        "n = np.array([152,266])\n",
        "\n",
        "zstat, pvalue = statsmodels.stats.proportion.proportions_ztest(x, n)\n",
        "print(\"Two-sided z-test for proportions: \\n\",\"z =\",zstat,\", pvalue =\",pvalue)"
      ]
    },
    {
      "cell_type": "code",
      "execution_count": null,
      "metadata": {
        "id": "y4hGZnd1YCEB"
      },
      "outputs": [],
      "source": [
        "#The `%matplotlib inline` ensures that plots are rendered inline in the browser.\n",
        "%matplotlib inline\n",
        "import matplotlib.pyplot as plt"
      ]
    },
    {
      "cell_type": "markdown",
      "metadata": {
        "id": "Rg6Zki-iYCEB"
      },
      "source": [
        "Let's get the normal distribution namespace from `scipy.stats`. See here for [Documentation](https://docs.scipy.org/doc/scipy/reference/generated/scipy.stats.norm.html)."
      ]
    },
    {
      "cell_type": "code",
      "execution_count": null,
      "metadata": {
        "id": "LtV8wMVEYCEB"
      },
      "outputs": [],
      "source": [
        "from scipy.stats import norm"
      ]
    },
    {
      "cell_type": "markdown",
      "metadata": {
        "id": "-vpcRoIpYCEB"
      },
      "source": [
        "Let's create 1,000 points between -10 and 10"
      ]
    },
    {
      "cell_type": "code",
      "execution_count": null,
      "metadata": {
        "id": "Mcm1-z2yYCEB"
      },
      "outputs": [],
      "source": [
        "x = np.linspace(-10, 10, 1000) # linspace() returns evenly-spaced numbers over a specified interval\n",
        "x[0:10], x[-10:]"
      ]
    },
    {
      "cell_type": "markdown",
      "metadata": {
        "id": "YRmHhO4mYCEB"
      },
      "source": [
        "Let's get the pdf of a normal distribution with a mean of 1 and standard deviation 3, and plot it using the grid points computed before:"
      ]
    },
    {
      "cell_type": "code",
      "execution_count": null,
      "metadata": {
        "scrolled": true,
        "id": "LowLC_fwYCEB"
      },
      "outputs": [],
      "source": [
        "pdf_x = norm.pdf(x, 1, 3)\n",
        "plt.plot(x, pdf_x)"
      ]
    },
    {
      "cell_type": "markdown",
      "metadata": {
        "id": "F6OpdeSTYCEB"
      },
      "source": [
        "And you can get random variables using the `rvs` function."
      ]
    },
    {
      "cell_type": "markdown",
      "metadata": {
        "id": "CDie4zBYYCEB"
      },
      "source": [
        "### References\n",
        "\n",
        "A useful book by Jake Vanderplas:  [PythonDataScienceHandbook](https://jakevdp.github.io/PythonDataScienceHandbook/).\n",
        "\n",
        "You may also benefit from using [Chris Albon's web site](https://chrisalbon.com) as a reference. It contains lots of useful information."
      ]
    },
    {
      "cell_type": "markdown",
      "metadata": {
        "id": "nTCH0PSbYCEB"
      },
      "source": [
        "## Dictionaries\n",
        "A dictionary is another data structure (aka storage container) -- arguably the most powerful. Like a list, a dictionary is a sequence of items. Unlike a list, a dictionary is unordered and its items are accessed with keys and not integer positions.  \n",
        "\n",
        "Dictionaries are the closest data structure we have to a database.\n",
        "\n",
        "Let's make a dictionary with a few courses and their corresponding enrollment numbers."
      ]
    },
    {
      "cell_type": "code",
      "execution_count": null,
      "metadata": {
        "id": "UWVHxYb0YCEB"
      },
      "outputs": [],
      "source": [
        "enroll2017_dict = {'CS50': 692,\n",
        "                   'CS109A / Stat 121A / AC 209A': 352,\n",
        "                   'Econ1011a': 95,\n",
        "                   'AM21a': 153,\n",
        "                   'Stat110': 485}\n",
        "enroll2017_dict"
      ]
    },
    {
      "cell_type": "markdown",
      "metadata": {
        "id": "rftrIwtYYCEB"
      },
      "source": [
        "One can obtain the value corresponding to a key via:"
      ]
    },
    {
      "cell_type": "code",
      "execution_count": null,
      "metadata": {
        "id": "eer_zv3uYCEB"
      },
      "outputs": [],
      "source": [
        "enroll2017_dict['CS50']"
      ]
    },
    {
      "cell_type": "markdown",
      "metadata": {
        "id": "2d0QBJg9YCEB"
      },
      "source": [
        "If you try to access a key that isn't present, your code will yield an error:"
      ]
    },
    {
      "cell_type": "code",
      "execution_count": null,
      "metadata": {
        "id": "kxyvImIlYCEB"
      },
      "outputs": [],
      "source": [
        "enroll2017_dict['CS630']"
      ]
    },
    {
      "cell_type": "markdown",
      "metadata": {
        "id": "p94oNM4hYCEB"
      },
      "source": [
        "Alternatively, the `.get()` function allows one to gracefully handle these situations by providing a default value if the key isn't found:"
      ]
    },
    {
      "cell_type": "code",
      "execution_count": null,
      "metadata": {
        "id": "z3-I_z1BYCEB"
      },
      "outputs": [],
      "source": [
        "enroll2017_dict.get('CS630', 5)"
      ]
    },
    {
      "cell_type": "markdown",
      "metadata": {
        "id": "dyMRnyw5YCEC"
      },
      "source": [
        "Note, this does not _store_ a new value for the key; it only provides a value to return if the key isn't found."
      ]
    },
    {
      "cell_type": "code",
      "execution_count": null,
      "metadata": {
        "id": "loZ5wsT-YCEC"
      },
      "outputs": [],
      "source": [
        "enroll2017_dict['CS630']"
      ]
    },
    {
      "cell_type": "code",
      "execution_count": null,
      "metadata": {
        "id": "7oCREAOSYCEC"
      },
      "outputs": [],
      "source": [
        "enroll2017_dict.get('C730', None)"
      ]
    },
    {
      "cell_type": "markdown",
      "metadata": {
        "id": "R5jUq1G8YCEC"
      },
      "source": [
        "All sorts of iterations are supported:"
      ]
    },
    {
      "cell_type": "code",
      "execution_count": null,
      "metadata": {
        "id": "XQYFLau1YCEC"
      },
      "outputs": [],
      "source": [
        "enroll2017_dict.values()"
      ]
    },
    {
      "cell_type": "code",
      "execution_count": null,
      "metadata": {
        "id": "BmvI_kJFYCEC"
      },
      "outputs": [],
      "source": [
        "enroll2017_dict.items()"
      ]
    },
    {
      "cell_type": "markdown",
      "metadata": {
        "id": "OwiJ9I0rYCEC"
      },
      "source": [
        "We can iterate over the tuples obtained above:"
      ]
    },
    {
      "cell_type": "code",
      "execution_count": null,
      "metadata": {
        "id": "aKFbXvQaYCEC"
      },
      "outputs": [],
      "source": [
        "for key, value in enroll2017_dict.items():\n",
        "    print(\"%s: %d\" %(key, value))"
      ]
    },
    {
      "cell_type": "markdown",
      "metadata": {
        "id": "nbqIEZ3KYCEC"
      },
      "source": [
        "Simply iterating over a dictionary gives us the keys. This is useful when we want to do something with each item:"
      ]
    },
    {
      "cell_type": "code",
      "execution_count": null,
      "metadata": {
        "id": "kLB7YjKSYCEC"
      },
      "outputs": [],
      "source": [
        "second_dict={}\n",
        "\n",
        "for key in enroll2017_dict:\n",
        "    second_dict[key] = enroll2017_dict[key]\n",
        "\n",
        "second_dict"
      ]
    },
    {
      "cell_type": "markdown",
      "metadata": {
        "id": "DrNJhO-3YCEC"
      },
      "source": [
        "The above is an actual __copy__ of _enroll2017_dict's_ allocated memory, unlike, `second_dict = enroll2017_dict` which would have made both variables label the same memory location."
      ]
    },
    {
      "cell_type": "markdown",
      "metadata": {
        "id": "hdINiM5yYCEC"
      },
      "source": [
        "In the previous dictionary example, the keys were strings corresponding to course names.  Keys don't have to be strings, though; they can be other _immutable_ data type such as numbers or tuples (not lists, as lists are mutable).\n",
        "\n",
        "### Dictionary comprehension: \"Do not try this at home\"\n",
        "\n",
        "You can construct dictionaries using a *dictionary comprehension*, which is similar to a list comprehension. Notice the brackets {} and the use of `zip` (see next cell for more on `zip`)"
      ]
    },
    {
      "cell_type": "code",
      "execution_count": null,
      "metadata": {
        "id": "zhV-mSmFYCEC"
      },
      "outputs": [],
      "source": [
        "float_list = [1., 3., 5., 4., 2.]\n",
        "int_list = [1, 2, 3, 4, 5, 6, 7, 8, 9, 10]\n",
        "\n",
        "my_dict = {k:v for (k, v) in zip(int_list, float_list)}\n",
        "my_dict"
      ]
    },
    {
      "cell_type": "markdown",
      "metadata": {
        "id": "tfGqFGdmYCEC"
      },
      "source": [
        "#### Creating tuples with `zip`\n",
        "\n",
        "`zip` is a Python built-in function that returns an iterator that aggregates elements from each of the iterables. This is an iterator of tuples, where the i-th tuple contains the i-th element from each of the argument sequences or iterables. The iterator stops when the shortest input iterable is exhausted. The `set()` built-in function returns a `set` object, optionally with elements taken from another iterable. By using `set()` you can make `zip` printable. In the example below, the iterables are the two lists, `float_list` and `int_list`. We can have more than two iterables."
      ]
    },
    {
      "cell_type": "code",
      "execution_count": null,
      "metadata": {
        "id": "MKvH-B5LYCEC"
      },
      "outputs": [],
      "source": [
        "float_list = [1., 3., 5., 4., 2.]\n",
        "int_list = [1, 2, 3, 4, 5, 6, 7, 8, 9, 10]\n",
        "\n",
        "viz_zip = set(zip(int_list, float_list))\n",
        "viz_zip"
      ]
    },
    {
      "cell_type": "code",
      "execution_count": null,
      "metadata": {
        "id": "oDhbZLDWYCED"
      },
      "outputs": [],
      "source": [
        "type(viz_zip)"
      ]
    },
    {
      "cell_type": "code",
      "execution_count": null,
      "metadata": {
        "id": "-bWmUvtMYCED"
      },
      "outputs": [],
      "source": []
    }
  ],
  "metadata": {
    "anaconda-cloud": {},
    "kernelspec": {
      "display_name": "Python 3 (ipykernel)",
      "language": "python",
      "name": "python3"
    },
    "language_info": {
      "codemirror_mode": {
        "name": "ipython",
        "version": 3
      },
      "file_extension": ".py",
      "mimetype": "text/x-python",
      "name": "python",
      "nbconvert_exporter": "python",
      "pygments_lexer": "ipython3",
      "version": "3.11.5"
    },
    "colab": {
      "provenance": [],
      "include_colab_link": true
    }
  },
  "nbformat": 4,
  "nbformat_minor": 0
}